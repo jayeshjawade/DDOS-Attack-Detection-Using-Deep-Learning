{
 "cells": [
  {
   "cell_type": "code",
   "execution_count": 1,
   "metadata": {},
   "outputs": [],
   "source": [
    "#DDOS Detection using Deep Learning\n",
    "#(NS Practical Work)"
   ]
  },
  {
   "cell_type": "code",
   "execution_count": 2,
   "metadata": {},
   "outputs": [],
   "source": [
    "import numpy as np\n",
    "import pandas as pd\n",
    "import matplotlib.pyplot as plt\n",
    "\n",
    "import seaborn as sns; sns.set()"
   ]
  },
  {
   "cell_type": "code",
   "execution_count": 3,
   "metadata": {},
   "outputs": [
    {
     "name": "stderr",
     "output_type": "stream",
     "text": [
      "Using TensorFlow backend.\n"
     ]
    }
   ],
   "source": [
    "from keras.models import Sequential, load_model\n",
    "from keras.layers import Dense, LSTM, Bidirectional\n",
    "from keras.utils import plot_model\n",
    "from keras.utils.np_utils import to_categorical\n",
    "from keras.utils import np_utils\n",
    "\n",
    "from sklearn.model_selection import train_test_split\n",
    "from sklearn.preprocessing import LabelEncoder, StandardScaler\n",
    "from sklearn.metrics import confusion_matrix"
   ]
  },
  {
   "cell_type": "code",
   "execution_count": 4,
   "metadata": {},
   "outputs": [],
   "source": [
    "number_of_samples = 50000"
   ]
  },
  {
   "cell_type": "code",
   "execution_count": 5,
   "metadata": {},
   "outputs": [],
   "source": [
    "data_attack = pd.read_csv('dataset_attack.csv', nrows = number_of_samples)"
   ]
  },
  {
   "cell_type": "code",
   "execution_count": 6,
   "metadata": {},
   "outputs": [],
   "source": [
    "data_normal = pd.read_csv('dataset_normal.csv', nrows = number_of_samples)"
   ]
  },
  {
   "cell_type": "code",
   "execution_count": 7,
   "metadata": {},
   "outputs": [],
   "source": [
    "data_normal.columns=[ 'frame.len', 'frame.protocols', 'ip.hdr_len',\n",
    "       'ip.len', 'ip.flags.rb', 'ip.flags.df', 'p.flags.mf', 'ip.frag_offset',\n",
    "       'ip.ttl', 'ip.proto', 'ip.src', 'ip.dst', 'tcp.srcport', 'tcp.dstport',\n",
    "       'tcp.len', 'tcp.ack', 'tcp.flags.res', 'tcp.flags.ns', 'tcp.flags.cwr',\n",
    "       'tcp.flags.ecn', 'tcp.flags.urg', 'tcp.flags.ack', 'tcp.flags.push',\n",
    "       'tcp.flags.reset', 'tcp.flags.syn', 'tcp.flags.fin', 'tcp.window_size',\n",
    "       'tcp.time_delta','class']\n",
    "data_attack.columns=[ 'frame.len', 'frame.protocols', 'ip.hdr_len',\n",
    "       'ip.len', 'ip.flags.rb', 'ip.flags.df', 'p.flags.mf', 'ip.frag_offset',\n",
    "       'ip.ttl', 'ip.proto', 'ip.src', 'ip.dst', 'tcp.srcport', 'tcp.dstport',\n",
    "       'tcp.len', 'tcp.ack', 'tcp.flags.res', 'tcp.flags.ns', 'tcp.flags.cwr',\n",
    "       'tcp.flags.ecn', 'tcp.flags.urg', 'tcp.flags.ack', 'tcp.flags.push',\n",
    "       'tcp.flags.reset', 'tcp.flags.syn', 'tcp.flags.fin', 'tcp.window_size',\n",
    "       'tcp.time_delta','class']"
   ]
  },
  {
   "cell_type": "code",
   "execution_count": 8,
   "metadata": {},
   "outputs": [
    {
     "data": {
      "text/plain": [
       "29"
      ]
     },
     "execution_count": 8,
     "metadata": {},
     "output_type": "execute_result"
    }
   ],
   "source": [
    "len(data_normal.columns)"
   ]
  },
  {
   "cell_type": "code",
   "execution_count": 9,
   "metadata": {},
   "outputs": [
    {
     "data": {
      "text/plain": [
       "29"
      ]
     },
     "execution_count": 9,
     "metadata": {},
     "output_type": "execute_result"
    }
   ],
   "source": [
    "len(data_attack.columns)"
   ]
  },
  {
   "cell_type": "code",
   "execution_count": 10,
   "metadata": {},
   "outputs": [],
   "source": [
    "data_normal=data_normal.drop(['ip.src', 'ip.dst','frame.protocols'],axis=1)\n",
    "data_attack=data_attack.drop(['ip.src', 'ip.dst','frame.protocols'],axis=1)"
   ]
  },
  {
   "cell_type": "code",
   "execution_count": 11,
   "metadata": {},
   "outputs": [],
   "source": [
    "features=[ 'frame.len', 'ip.hdr_len',\n",
    "       'ip.len', 'ip.flags.rb', 'ip.flags.df', 'p.flags.mf', 'ip.frag_offset',\n",
    "       'ip.ttl', 'ip.proto', 'tcp.srcport', 'tcp.dstport',\n",
    "       'tcp.len', 'tcp.ack', 'tcp.flags.res', 'tcp.flags.ns', 'tcp.flags.cwr',\n",
    "       'tcp.flags.ecn', 'tcp.flags.urg', 'tcp.flags.ack', 'tcp.flags.push',\n",
    "       'tcp.flags.reset', 'tcp.flags.syn', 'tcp.flags.fin', 'tcp.window_size',\n",
    "       'tcp.time_delta']"
   ]
  },
  {
   "cell_type": "code",
   "execution_count": 12,
   "metadata": {},
   "outputs": [
    {
     "data": {
      "text/plain": [
       "25"
      ]
     },
     "execution_count": 12,
     "metadata": {},
     "output_type": "execute_result"
    }
   ],
   "source": [
    "len(features)"
   ]
  },
  {
   "cell_type": "code",
   "execution_count": 13,
   "metadata": {},
   "outputs": [],
   "source": [
    "X_normal= data_normal[features].values\n",
    "X_attack= data_attack[features].values\n",
    "Y_normal= data_normal['class']\n",
    "Y_attack= data_attack['class']\n",
    "X=np.concatenate((X_normal,X_attack))\n",
    "Y=np.concatenate((Y_normal,Y_attack))"
   ]
  },
  {
   "cell_type": "code",
   "execution_count": 14,
   "metadata": {},
   "outputs": [],
   "source": [
    "scalar = StandardScaler(copy=True, with_mean=True, with_std=True)\n",
    "scalar.fit(X)\n",
    "X = scalar.transform(X)"
   ]
  },
  {
   "cell_type": "code",
   "execution_count": 15,
   "metadata": {},
   "outputs": [],
   "source": [
    "for i in range(0,len(Y)):\n",
    "  if Y[i] ==\"attack\":\n",
    "    Y[i]=0\n",
    "  else:\n",
    "    Y[i]=1"
   ]
  },
  {
   "cell_type": "code",
   "execution_count": 16,
   "metadata": {},
   "outputs": [],
   "source": [
    "features = len(X[0])\n",
    "samples = X.shape[0]\n",
    "train_len = 25\n",
    "input_len = samples - train_len\n",
    "I = np.zeros((samples - train_len, train_len, features))\n",
    "\n",
    "for i in range(input_len):\n",
    "    temp = np.zeros((train_len, features))\n",
    "    for j in range(i, i + train_len - 1):\n",
    "        temp[j-i] = X[j]\n",
    "    I[i] = temp"
   ]
  },
  {
   "cell_type": "code",
   "execution_count": 17,
   "metadata": {},
   "outputs": [
    {
     "data": {
      "text/plain": [
       "(100000, 25)"
      ]
     },
     "execution_count": 17,
     "metadata": {},
     "output_type": "execute_result"
    }
   ],
   "source": [
    "X.shape"
   ]
  },
  {
   "cell_type": "code",
   "execution_count": 18,
   "metadata": {},
   "outputs": [],
   "source": [
    "X_train, X_test, Y_train, Y_test = train_test_split(I, Y[25:100000], test_size = 0.2)"
   ]
  },
  {
   "cell_type": "code",
   "execution_count": 19,
   "metadata": {},
   "outputs": [],
   "source": [
    "def create_baseline():\n",
    "    model = Sequential()\n",
    "    \n",
    "    model.add(Bidirectional(LSTM(64, activation='tanh', kernel_regularizer='l2')))\n",
    "    model.add(Dense(128, activation = 'relu', kernel_regularizer='l2'))\n",
    "    model.add(Dense(1, activation = 'sigmoid', kernel_regularizer='l2'))\n",
    "    \n",
    "    model.compile(loss = 'binary_crossentropy', optimizer = 'adam', metrics = ['accuracy'])\n",
    "    \n",
    "    return model"
   ]
  },
  {
   "cell_type": "code",
   "execution_count": 20,
   "metadata": {},
   "outputs": [
    {
     "name": "stdout",
     "output_type": "stream",
     "text": [
      "WARNING:tensorflow:From D:\\Anaconda Sw\\envs\\tf\\lib\\site-packages\\tensorflow\\python\\ops\\resource_variable_ops.py:435: colocate_with (from tensorflow.python.framework.ops) is deprecated and will be removed in a future version.\n",
      "Instructions for updating:\n",
      "Colocations handled automatically by placer.\n"
     ]
    }
   ],
   "source": [
    "model = create_baseline()"
   ]
  },
  {
   "cell_type": "code",
   "execution_count": 21,
   "metadata": {},
   "outputs": [
    {
     "name": "stdout",
     "output_type": "stream",
     "text": [
      "WARNING:tensorflow:From D:\\Anaconda Sw\\envs\\tf\\lib\\site-packages\\tensorflow\\python\\ops\\math_ops.py:3066: to_int32 (from tensorflow.python.ops.math_ops) is deprecated and will be removed in a future version.\n",
      "Instructions for updating:\n",
      "Use tf.cast instead.\n",
      "Train on 55986 samples, validate on 23994 samples\n",
      "Epoch 1/40\n",
      "55986/55986 [==============================] - 79s 1ms/step - loss: 0.3105 - accuracy: 0.9335 - val_loss: 0.1889 - val_accuracy: 0.9535\n",
      "Epoch 2/40\n",
      "55986/55986 [==============================] - 71s 1ms/step - loss: 0.1756 - accuracy: 0.9579 - val_loss: 0.1720 - val_accuracy: 0.9513\n",
      "Epoch 3/40\n",
      "55986/55986 [==============================] - 81s 1ms/step - loss: 0.1603 - accuracy: 0.9617 - val_loss: 0.1878 - val_accuracy: 0.9558\n",
      "Epoch 4/40\n",
      "55986/55986 [==============================] - 66s 1ms/step - loss: 0.1497 - accuracy: 0.9649 - val_loss: 0.1537 - val_accuracy: 0.9650\n",
      "Epoch 5/40\n",
      "55986/55986 [==============================] - 66s 1ms/step - loss: 0.1412 - accuracy: 0.9664 - val_loss: 0.1304 - val_accuracy: 0.9657\n",
      "Epoch 6/40\n",
      "55986/55986 [==============================] - 66s 1ms/step - loss: 0.1413 - accuracy: 0.9668 - val_loss: 0.1267 - val_accuracy: 0.9678\n",
      "Epoch 7/40\n",
      "55986/55986 [==============================] - 66s 1ms/step - loss: 0.1313 - accuracy: 0.9690 - val_loss: 0.1305 - val_accuracy: 0.9683\n",
      "Epoch 8/40\n",
      "55986/55986 [==============================] - 65s 1ms/step - loss: 0.1353 - accuracy: 0.9666 - val_loss: 0.1275 - val_accuracy: 0.9673\n",
      "Epoch 9/40\n",
      "55986/55986 [==============================] - 65s 1ms/step - loss: 0.1347 - accuracy: 0.9658 - val_loss: 0.1277 - val_accuracy: 0.9685\n",
      "Epoch 10/40\n",
      "55986/55986 [==============================] - 65s 1ms/step - loss: 0.1266 - accuracy: 0.9686 - val_loss: 0.1452 - val_accuracy: 0.9550\n",
      "Epoch 11/40\n",
      "55986/55986 [==============================] - 76s 1ms/step - loss: 0.1215 - accuracy: 0.9697 - val_loss: 0.1157 - val_accuracy: 0.9701\n",
      "Epoch 12/40\n",
      "55986/55986 [==============================] - 66s 1ms/step - loss: 0.1235 - accuracy: 0.9694 - val_loss: 0.1631 - val_accuracy: 0.9561\n",
      "Epoch 13/40\n",
      "55986/55986 [==============================] - 107s 2ms/step - loss: 0.1256 - accuracy: 0.9687 - val_loss: 0.1360 - val_accuracy: 0.9685\n",
      "Epoch 14/40\n",
      "55986/55986 [==============================] - 81s 1ms/step - loss: 0.1200 - accuracy: 0.9705 - val_loss: 0.1239 - val_accuracy: 0.9680\n",
      "Epoch 15/40\n",
      "55986/55986 [==============================] - 83s 1ms/step - loss: 0.1179 - accuracy: 0.9711 - val_loss: 0.1327 - val_accuracy: 0.9697\n",
      "Epoch 16/40\n",
      "55986/55986 [==============================] - 88s 2ms/step - loss: 0.1171 - accuracy: 0.9716 - val_loss: 0.1154 - val_accuracy: 0.9713\n",
      "Epoch 17/40\n",
      "55986/55986 [==============================] - 67s 1ms/step - loss: 0.1166 - accuracy: 0.9718 - val_loss: 0.1245 - val_accuracy: 0.9688\n",
      "Epoch 18/40\n",
      "55986/55986 [==============================] - 66s 1ms/step - loss: 0.1214 - accuracy: 0.9699 - val_loss: 0.1223 - val_accuracy: 0.9632\n",
      "Epoch 19/40\n",
      "55986/55986 [==============================] - 74s 1ms/step - loss: 0.1130 - accuracy: 0.9723 - val_loss: 0.1052 - val_accuracy: 0.9729\n",
      "Epoch 20/40\n",
      "55986/55986 [==============================] - 66s 1ms/step - loss: 0.1127 - accuracy: 0.9727 - val_loss: 0.1135 - val_accuracy: 0.9743\n",
      "Epoch 21/40\n",
      "55986/55986 [==============================] - 66s 1ms/step - loss: 0.1135 - accuracy: 0.9727 - val_loss: 0.1074 - val_accuracy: 0.9755\n",
      "Epoch 22/40\n",
      "55986/55986 [==============================] - 66s 1ms/step - loss: 0.1123 - accuracy: 0.9729 - val_loss: 0.1121 - val_accuracy: 0.9744\n",
      "Epoch 23/40\n",
      "55986/55986 [==============================] - 67s 1ms/step - loss: 0.1064 - accuracy: 0.9747 - val_loss: 0.1103 - val_accuracy: 0.9742\n",
      "Epoch 24/40\n",
      "55986/55986 [==============================] - 66s 1ms/step - loss: 0.1103 - accuracy: 0.9732 - val_loss: 0.1669 - val_accuracy: 0.9493\n",
      "Epoch 25/40\n",
      "55986/55986 [==============================] - 66s 1ms/step - loss: 0.1144 - accuracy: 0.9724 - val_loss: 0.1062 - val_accuracy: 0.9733\n",
      "Epoch 26/40\n",
      "55986/55986 [==============================] - 65s 1ms/step - loss: 0.1036 - accuracy: 0.9757 - val_loss: 0.1006 - val_accuracy: 0.9756\n",
      "Epoch 27/40\n",
      "55986/55986 [==============================] - 65s 1ms/step - loss: 0.1111 - accuracy: 0.9733 - val_loss: 0.1071 - val_accuracy: 0.9726\n",
      "Epoch 28/40\n",
      "55986/55986 [==============================] - 67s 1ms/step - loss: 0.1081 - accuracy: 0.9745 - val_loss: 0.1124 - val_accuracy: 0.9723\n",
      "Epoch 29/40\n",
      "55986/55986 [==============================] - 65s 1ms/step - loss: 0.1050 - accuracy: 0.9747 - val_loss: 0.1105 - val_accuracy: 0.9752\n",
      "Epoch 30/40\n",
      "55986/55986 [==============================] - 64s 1ms/step - loss: 0.1094 - accuracy: 0.9744 - val_loss: 0.1102 - val_accuracy: 0.9758\n",
      "Epoch 31/40\n",
      "55986/55986 [==============================] - 64s 1ms/step - loss: 0.1047 - accuracy: 0.9757 - val_loss: 0.0991 - val_accuracy: 0.9752\n",
      "Epoch 32/40\n",
      "55986/55986 [==============================] - 64s 1ms/step - loss: 0.1024 - accuracy: 0.9759 - val_loss: 0.0989 - val_accuracy: 0.9747\n",
      "Epoch 33/40\n",
      "55986/55986 [==============================] - 64s 1ms/step - loss: 0.1066 - accuracy: 0.9760 - val_loss: 0.1006 - val_accuracy: 0.9749\n",
      "Epoch 34/40\n",
      "55986/55986 [==============================] - 62s 1ms/step - loss: 0.1077 - accuracy: 0.9747 - val_loss: 0.1037 - val_accuracy: 0.9767\n",
      "Epoch 35/40\n",
      "55986/55986 [==============================] - 63s 1ms/step - loss: 0.1035 - accuracy: 0.9764 - val_loss: 0.0926 - val_accuracy: 0.9792\n",
      "Epoch 36/40\n",
      "55986/55986 [==============================] - 62s 1ms/step - loss: 0.1041 - accuracy: 0.9765 - val_loss: 0.1066 - val_accuracy: 0.9728\n",
      "Epoch 37/40\n",
      "55986/55986 [==============================] - 62s 1ms/step - loss: 0.0968 - accuracy: 0.9776 - val_loss: 0.1041 - val_accuracy: 0.9677\n",
      "Epoch 38/40\n",
      "55986/55986 [==============================] - 786s 14ms/step - loss: 0.1028 - accuracy: 0.9766 - val_loss: 0.0991 - val_accuracy: 0.9735\n",
      "Epoch 39/40\n",
      "55986/55986 [==============================] - 74s 1ms/step - loss: 0.1044 - accuracy: 0.9764 - val_loss: 0.1076 - val_accuracy: 0.9722\n",
      "Epoch 40/40\n",
      "55986/55986 [==============================] - 66s 1ms/step - loss: 0.0940 - accuracy: 0.9792 - val_loss: 0.0903 - val_accuracy: 0.9792\n"
     ]
    }
   ],
   "source": [
    "history = model.fit(X_train, Y_train, epochs =40 ,validation_split=0.3, verbose = 1)"
   ]
  },
  {
   "cell_type": "code",
   "execution_count": 22,
   "metadata": {},
   "outputs": [
    {
     "name": "stdout",
     "output_type": "stream",
     "text": [
      "19995/19995 [==============================] - 6s 323us/step\n"
     ]
    }
   ],
   "source": [
    "predict = model.predict(X_test, verbose=1)"
   ]
  },
  {
   "cell_type": "code",
   "execution_count": 23,
   "metadata": {},
   "outputs": [],
   "source": [
    "tp = 0\n",
    "tn = 0\n",
    "fp = 0\n",
    "fn = 0\n",
    "predictn = predict.flatten().round()\n",
    "predictn = predictn.tolist()\n",
    "Y_testn = Y_test.tolist()\n",
    "for i in range(len(Y_testn)):\n",
    "  if predictn[i]==1 and Y_testn[i]==1:\n",
    "    tp+=1\n",
    "  elif predictn[i]==0 and Y_testn[i]==0:\n",
    "    tn+=1\n",
    "  elif predictn[i]==0 and Y_testn[i]==1:\n",
    "    fp+=1\n",
    "  elif predictn[i]==1 and Y_testn[i]==0:\n",
    "    fn+=1"
   ]
  },
  {
   "cell_type": "code",
   "execution_count": 24,
   "metadata": {},
   "outputs": [
    {
     "data": {
      "image/png": "[encoded data removed]",
      "text/plain": [
       "<Figure size 432x288 with 2 Axes>"
      ]
     },
     "metadata": {},
     "output_type": "display_data"
    }
   ],
   "source": [
    "to_heat_map =[[tn,fp],[fn,tp]]\n",
    "to_heat_map = pd.DataFrame(to_heat_map, index = [\"Attack\",\"Normal\"],columns = [\"Attack\",\"Normal\"])\n",
    "ax = sns.heatmap(to_heat_map,annot=True, fmt=\"d\")"
   ]
  },
  {
   "cell_type": "code",
   "execution_count": 25,
   "metadata": {},
   "outputs": [
    {
     "name": "stdout",
     "output_type": "stream",
     "text": [
      "accuracy: 97.95%\n"
     ]
    }
   ],
   "source": [
    "scores = model.evaluate(X_test, Y_test, verbose=0)\n",
    "print(\"%s: %.2f%%\" % (model.metrics_names[1], scores[1]*100))"
   ]
  },
  {
   "cell_type": "code",
   "execution_count": 26,
   "metadata": {},
   "outputs": [],
   "source": [
    "figure = ax.get_figure()    \n",
    "figure.savefig('confusion_matrix_BRNN.png', dpi=400)"
   ]
  },
  {
   "cell_type": "code",
   "execution_count": 27,
   "metadata": {},
   "outputs": [],
   "source": [
    "model.save('brnn_model.h5')"
   ]
  },
  {
   "cell_type": "code",
   "execution_count": 28,
   "metadata": {},
   "outputs": [
    {
     "data": {
      "image/png": "[encoded data removed]",
      "text/plain": [
       "<Figure size 432x288 with 1 Axes>"
      ]
     },
     "metadata": {},
     "output_type": "display_data"
    }
   ],
   "source": [
    "# Plot training & validation accuracy values\n",
    "plt.plot(history.history['accuracy'])\n",
    "plt.plot(history.history['val_accuracy'])\n",
    "plt.title('BRNN Model Accuracy')\n",
    "plt.ylabel('Accuracy')\n",
    "plt.xlabel('Epoch')\n",
    "plt.legend(['Train', 'Test'], loc='lower right')\n",
    "plt.savefig('BRNN Model Accuracy.png')\n",
    "plt.show()"
   ]
  },
  {
   "cell_type": "code",
   "execution_count": 29,
   "metadata": {},
   "outputs": [
    {
     "data": {
      "image/png": "[encoded data removed]",
      "text/plain": [
       "<Figure size 432x288 with 1 Axes>"
      ]
     },
     "metadata": {},
     "output_type": "display_data"
    }
   ],
   "source": [
    "# Plot training & validation loss values\n",
    "plt.plot(history.history['loss'])\n",
    "plt.plot(history.history['val_loss'])\n",
    "plt.title('BRNN Model  Loss')\n",
    "plt.ylabel('Loss')\n",
    "plt.xlabel('Epoch')\n",
    "plt.legend(['Train', 'Test'], loc='upper left')\n",
    "plt.savefig('BRNN Model Loss.png')\n",
    "plt.show()"
   ]
  },
  {
   "cell_type": "code",
   "execution_count": null,
   "metadata": {},
   "outputs": [],
   "source": []
  }
 ],
 "metadata": {
  "kernelspec": {
   "display_name": "Python 3",
   "language": "python",
   "name": "python3"
  },
  "language_info": {
   "codemirror_mode": {
    "name": "ipython",
    "version": 3
   },
   "file_extension": ".py",
   "mimetype": "text/x-python",
   "name": "python",
   "nbconvert_exporter": "python",
   "pygments_lexer": "ipython3",
   "version": "3.7.6"
  }
 },
 "nbformat": 4,
 "nbformat_minor": 4
}
